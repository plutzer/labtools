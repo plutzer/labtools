{
 "cells": [
  {
   "cell_type": "code",
   "execution_count": 3,
   "id": "d8a5544d",
   "metadata": {},
   "outputs": [],
   "source": [
    "# Imports\n",
    "import numpy as np\n",
    "from matplotlib import pyplot as plt\n",
    "import pandas as pd\n",
    "from scipy.stats import linregress"
   ]
  },
  {
   "cell_type": "code",
   "execution_count": 12,
   "id": "7cd0e772",
   "metadata": {},
   "outputs": [],
   "source": [
    "# Directories - Change as desired\n",
    "bca_file_path = \"C:/Users/plutzer/Box/CellBio-MajorLab/Users/Isaac/Experiments/002_WNT_phospho_test/BCA_IBP_20220615_163558.xlsx\"\n",
    "figure_base = bca_file_path[:len(bca_file_path)-5]\n",
    "expt_name = bca_file_path.split('/')[-1].split('.')[0]"
   ]
  },
  {
   "cell_type": "code",
   "execution_count": 13,
   "id": "d6534e07",
   "metadata": {},
   "outputs": [
    {
     "data": {
      "text/html": [
       "<div>\n",
       "<style scoped>\n",
       "    .dataframe tbody tr th:only-of-type {\n",
       "        vertical-align: middle;\n",
       "    }\n",
       "\n",
       "    .dataframe tbody tr th {\n",
       "        vertical-align: top;\n",
       "    }\n",
       "\n",
       "    .dataframe thead th {\n",
       "        text-align: right;\n",
       "    }\n",
       "</style>\n",
       "<table border=\"1\" class=\"dataframe\">\n",
       "  <thead>\n",
       "    <tr style=\"text-align: right;\">\n",
       "      <th></th>\n",
       "      <th>1</th>\n",
       "      <th>2</th>\n",
       "      <th>3</th>\n",
       "      <th>4</th>\n",
       "      <th>5</th>\n",
       "      <th>6</th>\n",
       "      <th>7</th>\n",
       "      <th>8</th>\n",
       "      <th>9</th>\n",
       "      <th>10</th>\n",
       "      <th>11</th>\n",
       "      <th>12</th>\n",
       "    </tr>\n",
       "    <tr>\n",
       "      <th></th>\n",
       "      <th></th>\n",
       "      <th></th>\n",
       "      <th></th>\n",
       "      <th></th>\n",
       "      <th></th>\n",
       "      <th></th>\n",
       "      <th></th>\n",
       "      <th></th>\n",
       "      <th></th>\n",
       "      <th></th>\n",
       "      <th></th>\n",
       "      <th></th>\n",
       "    </tr>\n",
       "  </thead>\n",
       "  <tbody>\n",
       "    <tr>\n",
       "      <th>A</th>\n",
       "      <td>0.398</td>\n",
       "      <td>0.376</td>\n",
       "      <td>0.361</td>\n",
       "      <td>0.162</td>\n",
       "      <td>0.161</td>\n",
       "      <td>0.158</td>\n",
       "      <td>0.148</td>\n",
       "      <td>0.151</td>\n",
       "      <td>0.150</td>\n",
       "      <td>NaN</td>\n",
       "      <td>NaN</td>\n",
       "      <td>NaN</td>\n",
       "    </tr>\n",
       "    <tr>\n",
       "      <th>B</th>\n",
       "      <td>0.249</td>\n",
       "      <td>0.243</td>\n",
       "      <td>0.243</td>\n",
       "      <td>0.164</td>\n",
       "      <td>0.172</td>\n",
       "      <td>0.162</td>\n",
       "      <td>0.162</td>\n",
       "      <td>0.165</td>\n",
       "      <td>0.171</td>\n",
       "      <td>NaN</td>\n",
       "      <td>NaN</td>\n",
       "      <td>NaN</td>\n",
       "    </tr>\n",
       "    <tr>\n",
       "      <th>C</th>\n",
       "      <td>0.170</td>\n",
       "      <td>0.172</td>\n",
       "      <td>0.174</td>\n",
       "      <td>0.158</td>\n",
       "      <td>0.163</td>\n",
       "      <td>0.153</td>\n",
       "      <td>0.154</td>\n",
       "      <td>0.164</td>\n",
       "      <td>0.158</td>\n",
       "      <td>NaN</td>\n",
       "      <td>NaN</td>\n",
       "      <td>NaN</td>\n",
       "    </tr>\n",
       "    <tr>\n",
       "      <th>D</th>\n",
       "      <td>0.133</td>\n",
       "      <td>0.131</td>\n",
       "      <td>0.131</td>\n",
       "      <td>0.154</td>\n",
       "      <td>0.152</td>\n",
       "      <td>0.149</td>\n",
       "      <td>0.156</td>\n",
       "      <td>0.155</td>\n",
       "      <td>0.159</td>\n",
       "      <td>NaN</td>\n",
       "      <td>NaN</td>\n",
       "      <td>NaN</td>\n",
       "    </tr>\n",
       "    <tr>\n",
       "      <th>E</th>\n",
       "      <td>0.103</td>\n",
       "      <td>0.103</td>\n",
       "      <td>0.105</td>\n",
       "      <td>0.152</td>\n",
       "      <td>0.156</td>\n",
       "      <td>0.154</td>\n",
       "      <td>0.150</td>\n",
       "      <td>0.151</td>\n",
       "      <td>0.147</td>\n",
       "      <td>NaN</td>\n",
       "      <td>NaN</td>\n",
       "      <td>NaN</td>\n",
       "    </tr>\n",
       "    <tr>\n",
       "      <th>F</th>\n",
       "      <td>0.092</td>\n",
       "      <td>0.089</td>\n",
       "      <td>0.090</td>\n",
       "      <td>NaN</td>\n",
       "      <td>NaN</td>\n",
       "      <td>NaN</td>\n",
       "      <td>NaN</td>\n",
       "      <td>NaN</td>\n",
       "      <td>NaN</td>\n",
       "      <td>NaN</td>\n",
       "      <td>NaN</td>\n",
       "      <td>NaN</td>\n",
       "    </tr>\n",
       "    <tr>\n",
       "      <th>G</th>\n",
       "      <td>0.081</td>\n",
       "      <td>0.082</td>\n",
       "      <td>0.081</td>\n",
       "      <td>NaN</td>\n",
       "      <td>NaN</td>\n",
       "      <td>NaN</td>\n",
       "      <td>NaN</td>\n",
       "      <td>NaN</td>\n",
       "      <td>NaN</td>\n",
       "      <td>NaN</td>\n",
       "      <td>NaN</td>\n",
       "      <td>NaN</td>\n",
       "    </tr>\n",
       "    <tr>\n",
       "      <th>H</th>\n",
       "      <td>0.071</td>\n",
       "      <td>0.074</td>\n",
       "      <td>0.074</td>\n",
       "      <td>NaN</td>\n",
       "      <td>NaN</td>\n",
       "      <td>NaN</td>\n",
       "      <td>NaN</td>\n",
       "      <td>NaN</td>\n",
       "      <td>NaN</td>\n",
       "      <td>NaN</td>\n",
       "      <td>NaN</td>\n",
       "      <td>NaN</td>\n",
       "    </tr>\n",
       "  </tbody>\n",
       "</table>\n",
       "</div>"
      ],
      "text/plain": [
       "      1      2      3      4      5      6      7      8      9   10  11  12\n",
       "                                                                            \n",
       "A  0.398  0.376  0.361  0.162  0.161  0.158  0.148  0.151  0.150 NaN NaN NaN\n",
       "B  0.249  0.243  0.243  0.164  0.172  0.162  0.162  0.165  0.171 NaN NaN NaN\n",
       "C  0.170  0.172  0.174  0.158  0.163  0.153  0.154  0.164  0.158 NaN NaN NaN\n",
       "D  0.133  0.131  0.131  0.154  0.152  0.149  0.156  0.155  0.159 NaN NaN NaN\n",
       "E  0.103  0.103  0.105  0.152  0.156  0.154  0.150  0.151  0.147 NaN NaN NaN\n",
       "F  0.092  0.089  0.090    NaN    NaN    NaN    NaN    NaN    NaN NaN NaN NaN\n",
       "G  0.081  0.082  0.081    NaN    NaN    NaN    NaN    NaN    NaN NaN NaN NaN\n",
       "H  0.071  0.074  0.074    NaN    NaN    NaN    NaN    NaN    NaN NaN NaN NaN"
      ]
     },
     "execution_count": 13,
     "metadata": {},
     "output_type": "execute_result"
    }
   ],
   "source": [
    "# load file\n",
    "df = pd.read_excel(bca_file_path,header=14)\n",
    "df = df.set_index('Unnamed: 0')\n",
    "mat = df.to_numpy()\n",
    "df.index.names = [' ']\n",
    "df"
   ]
  },
  {
   "cell_type": "code",
   "execution_count": 14,
   "id": "60d5fbfb",
   "metadata": {},
   "outputs": [],
   "source": [
    "# Plate setup\n",
    "\n",
    "# Standards go in the first n cols, using all the rows as shown below\n",
    "row_order = ['A','B','C','D','E','F','G','H']\n",
    "\n",
    "##### STANDARDS - listed in ug/mL ##### \n",
    "standards = {\n",
    "    'A':1000,\n",
    "    'B':500,\n",
    "    'C':250,\n",
    "    'D':125,\n",
    "    'E':62.5,\n",
    "    'F':31.3,\n",
    "    'G':15.6,\n",
    "    'H':0\n",
    "}\n",
    "\n",
    "# Add standards to ignore if you have some outliers\n",
    "# ignore = ['B']\n",
    "ignore = []\n",
    "\n",
    "# Change if needed\n",
    "num_standard_reps = 3\n",
    "\n",
    "# Positions of samples\n",
    "samples_positions = [\n",
    "    [[0,3],[0,4],[0,5]],\n",
    "    [[1,3],[1,4],[1,5]],\n",
    "    [[2,3],[2,4],[2,5]],\n",
    "    [[3,3],[3,4],[3,5]],\n",
    "    [[4,3],[4,4],[4,5]],\n",
    "    [[0,6],[0,7],[0,8]],\n",
    "    [[1,6],[1,7],[1,8]],\n",
    "    [[2,6],[2,7],[2,8]],\n",
    "    [[3,6],[3,7],[3,8]],\n",
    "    [[4,6],[4,7],[4,8]]\n",
    "]\n",
    "\n",
    "# Sample names corresponding to the above positions\n",
    "samples_names = [\n",
    "    'Control 1',\n",
    "    'Control 2',\n",
    "    'Control 3',\n",
    "    'Control 4',\n",
    "    'Control 5',\n",
    "    'WNT3a 1',\n",
    "    'WNT3a 2',\n",
    "    'WNT3a 3',\n",
    "    'WNT3a 4',\n",
    "    'WNT3a 5'\n",
    "]"
   ]
  },
  {
   "cell_type": "code",
   "execution_count": 15,
   "id": "641bc204",
   "metadata": {},
   "outputs": [],
   "source": [
    "# Generate points for the standard curve\n",
    "concentrations_x = []\n",
    "absorbances_y = []\n",
    "for row in range(len(row_order)):\n",
    "    if row_order[row] not in ignore:\n",
    "        concentration = standards[row_order[row]]\n",
    "        for col in range(num_standard_reps):\n",
    "            concentrations_x.append(concentration)\n",
    "            absorbances_y.append(mat[row,col])\n",
    "\n",
    "# Add additional standards other than the main columns\n",
    "additional_standards_list = [] #[[7,3],[7,4],[7,5]]\n",
    "additional_standards_concentrations = [] #[0,0,0] \n",
    "\n",
    "for n in range(len(additional_standards_list)):\n",
    "    concentrations_x.append(additional_standards_concentrations[n])\n",
    "    absorbances_y.append(mat[additional_standards_list[n][0],additional_standards_list[n][1]])"
   ]
  },
  {
   "cell_type": "code",
   "execution_count": 16,
   "id": "eb6d440c",
   "metadata": {},
   "outputs": [
    {
     "name": "stdout",
     "output_type": "stream",
     "text": [
      "Control 1:\n",
      "\tMean Absorbance: 0.16033333333333333\n",
      "\tInterpolated Concentration: 223.43303362032472  ug/mL\n",
      "Control 2:\n",
      "\tMean Absorbance: 0.166\n",
      "\tInterpolated Concentration: 239.7232715674743  ug/mL\n",
      "Control 3:\n",
      "\tMean Absorbance: 0.158\n",
      "\tInterpolated Concentration: 216.76489651496138  ug/mL\n",
      "Control 4:\n",
      "\tMean Absorbance: 0.15166666666666664\n",
      "\tInterpolated Concentration: 198.77970665787333  ug/mL\n",
      "Control 5:\n",
      "\tMean Absorbance: 0.154\n",
      "\tInterpolated Concentration: 205.3866162710801  ug/mL\n",
      "WNT3a 1:\n",
      "\tMean Absorbance: 0.14966666666666664\n",
      "\tInterpolated Concentration: 193.13426815013486  ug/mL\n",
      "WNT3a 2:\n",
      "\tMean Absorbance: 0.166\n",
      "\tInterpolated Concentration: 239.7232715674743  ug/mL\n",
      "WNT3a 3:\n",
      "\tMean Absorbance: 0.15866666666666665\n",
      "\tInterpolated Concentration: 218.6677463864728  ug/mL\n",
      "WNT3a 4:\n",
      "\tMean Absorbance: 0.15666666666666665\n",
      "\tInterpolated Concentration: 212.96476392684312  ug/mL\n",
      "WNT3a 5:\n",
      "\tMean Absorbance: 0.14933333333333332\n",
      "\tInterpolated Concentration: 192.1949330564431  ug/mL\n"
     ]
    },
    {
     "data": {
      "text/plain": [
       "Text(0, 0.5, 'Net Absorbance (562nm)')"
      ]
     },
     "execution_count": 16,
     "metadata": {},
     "output_type": "execute_result"
    },
    {
     "data": {
      "image/png": "[encoded data removed]",
      "text/plain": [
       "<Figure size 1080x720 with 1 Axes>"
      ]
     },
     "metadata": {
      "needs_background": "light"
     },
     "output_type": "display_data"
    }
   ],
   "source": [
    "# Scatterplot of points\n",
    "std_curve = plt.figure(figsize = (15,10))\n",
    "plt.scatter(concentrations_x,absorbances_y,c='grey',alpha=0.3)\n",
    "\n",
    "# Add a quadratic regression\n",
    "model = np.poly1d(np.polyfit(concentrations_x,absorbances_y,2))\n",
    "polyline = np.linspace(0,1000,1000)\n",
    "plt.plot(polyline,model(polyline),c='black')\n",
    "\n",
    "\n",
    "# Make interpolations for the samples\n",
    "for samplenum in range(len(samples_positions)):\n",
    "    sample_name = samples_names[samplenum]\n",
    "    sample_abs = []\n",
    "    for row,col in samples_positions[samplenum]:\n",
    "        sample_abs.append(mat[row,col])\n",
    "    # Get the mean absorbance and plot as a horizontal line\n",
    "    plt.plot([0,1000],[np.mean(sample_abs)]*2,label=sample_name)\n",
    "    print(sample_name + ':')\n",
    "    print('\\t' + 'Mean Absorbance: ' + str(np.mean(sample_abs)))\n",
    "    \n",
    "    # Interpolate the concentration for this sample using the minimum solution for the quadratic equation\n",
    "    print('\\t' + 'Interpolated Concentration: ' + str(np.min((model-np.mean(sample_abs)).r)) + '  ug/mL')\n",
    "\n",
    "plt.legend()\n",
    "plt.title('Standard Curve - ' + expt_name)\n",
    "plt.xlabel('Protein Concentration (ug/mL)')\n",
    "plt.ylabel('Net Absorbance (562nm)')"
   ]
  },
  {
   "cell_type": "code",
   "execution_count": 17,
   "id": "2ec510e3",
   "metadata": {},
   "outputs": [],
   "source": [
    "# Run this to save the figure\n",
    "save_path = figure_base + '.png'\n",
    "std_curve.savefig(save_path)"
   ]
  },
  {
   "cell_type": "code",
   "execution_count": 11,
   "id": "33492a42",
   "metadata": {},
   "outputs": [
    {
     "name": "stdout",
     "output_type": "stream",
     "text": [
      "Add 189.04744481034274 sample.\n",
      "Dilute with 60.95255518965726 diluent.\n"
     ]
    }
   ],
   "source": [
    "sample_conc = 819.9\n",
    "desired_conc = 620\n",
    "desired_vol = 250\n",
    "\n",
    "amount_sample = desired_conc*desired_vol/sample_conc\n",
    "amount_diluent = desired_vol-amount_sample\n",
    "\n",
    "print(\"Add \" + str(amount_sample) + \" sample.\")\n",
    "print(\"Dilute with \" + str(amount_diluent) + \" diluent.\")"
   ]
  },
  {
   "cell_type": "code",
   "execution_count": 3,
   "id": "c786d6d3",
   "metadata": {},
   "outputs": [
    {
     "ename": "NameError",
     "evalue": "name 'model' is not defined",
     "output_type": "error",
     "traceback": [
      "\u001b[1;31m---------------------------------------------------------------------------\u001b[0m",
      "\u001b[1;31mNameError\u001b[0m                                 Traceback (most recent call last)",
      "\u001b[1;32m<ipython-input-3-58dace0f05ff>\u001b[0m in \u001b[0;36m<module>\u001b[1;34m\u001b[0m\n\u001b[1;32m----> 1\u001b[1;33m \u001b[1;33m(\u001b[0m\u001b[0mmodel\u001b[0m\u001b[1;33m-\u001b[0m\u001b[1;36m0.5\u001b[0m\u001b[1;33m)\u001b[0m\u001b[1;33m.\u001b[0m\u001b[0mr\u001b[0m\u001b[1;33m\u001b[0m\u001b[1;33m\u001b[0m\u001b[0m\n\u001b[0m",
      "\u001b[1;31mNameError\u001b[0m: name 'model' is not defined"
     ]
    }
   ],
   "source": [
    "(model-0.5).r"
   ]
  },
  {
   "cell_type": "code",
   "execution_count": 11,
   "id": "4b8b5817",
   "metadata": {},
   "outputs": [
    {
     "data": {
      "text/plain": [
       "1580"
      ]
     },
     "execution_count": 11,
     "metadata": {},
     "output_type": "execute_result"
    }
   ],
   "source": [
    "790*2"
   ]
  },
  {
   "cell_type": "code",
   "execution_count": 13,
   "id": "12de87d6",
   "metadata": {},
   "outputs": [
    {
     "data": {
      "text/plain": [
       "2390.5"
      ]
     },
     "execution_count": 13,
     "metadata": {},
     "output_type": "execute_result"
    }
   ],
   "source": [
    "np.mean([2360,2421])"
   ]
  },
  {
   "cell_type": "code",
   "execution_count": 14,
   "id": "f6459c57",
   "metadata": {},
   "outputs": [
    {
     "data": {
      "text/plain": [
       "50.2092050209205"
      ]
     },
     "execution_count": 14,
     "metadata": {},
     "output_type": "execute_result"
    }
   ],
   "source": [
    "120/2.39"
   ]
  },
  {
   "cell_type": "code",
   "execution_count": null,
   "id": "8bff2b6c",
   "metadata": {},
   "outputs": [],
   "source": []
  }
 ],
 "metadata": {
  "kernelspec": {
   "display_name": "Python 3",
   "language": "python",
   "name": "python3"
  },
  "language_info": {
   "codemirror_mode": {
    "name": "ipython",
    "version": 3
   },
   "file_extension": ".py",
   "mimetype": "text/x-python",
   "name": "python",
   "nbconvert_exporter": "python",
   "pygments_lexer": "ipython3",
   "version": "3.8.8"
  }
 },
 "nbformat": 4,
 "nbformat_minor": 5
}
