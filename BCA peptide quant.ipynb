{
 "cells": [
  {
   "cell_type": "code",
   "execution_count": 23,
   "id": "d8a5544d",
   "metadata": {},
   "outputs": [],
   "source": [
    "# Imports\n",
    "import numpy as np\n",
    "from matplotlib import pyplot as plt\n",
    "import pandas as pd\n",
    "from scipy.stats import linregress"
   ]
  },
  {
   "cell_type": "code",
   "execution_count": 24,
   "id": "7cd0e772",
   "metadata": {},
   "outputs": [],
   "source": [
    "# Directories - Change as desired\n",
    "bca_file_path = \"C:/Users/plutzer/Box/CellBio-MajorLab/Users/Isaac/Lab Notebook/Lab_data/BCA_IBP_20210701_163634.xlsx\"\n",
    "figure_base = bca_file_path[:len(bca_file_path)-5]\n",
    "expt_name = bca_file_path.split('/')[-1].split('.')[0]"
   ]
  },
  {
   "cell_type": "code",
   "execution_count": 25,
   "id": "d6534e07",
   "metadata": {},
   "outputs": [
    {
     "data": {
      "text/html": [
       "<div>\n",
       "<style scoped>\n",
       "    .dataframe tbody tr th:only-of-type {\n",
       "        vertical-align: middle;\n",
       "    }\n",
       "\n",
       "    .dataframe tbody tr th {\n",
       "        vertical-align: top;\n",
       "    }\n",
       "\n",
       "    .dataframe thead th {\n",
       "        text-align: right;\n",
       "    }\n",
       "</style>\n",
       "<table border=\"1\" class=\"dataframe\">\n",
       "  <thead>\n",
       "    <tr style=\"text-align: right;\">\n",
       "      <th></th>\n",
       "      <th>1</th>\n",
       "      <th>2</th>\n",
       "      <th>3</th>\n",
       "      <th>4</th>\n",
       "      <th>5</th>\n",
       "      <th>6</th>\n",
       "      <th>7</th>\n",
       "      <th>8</th>\n",
       "      <th>9</th>\n",
       "      <th>10</th>\n",
       "      <th>11</th>\n",
       "      <th>12</th>\n",
       "    </tr>\n",
       "    <tr>\n",
       "      <th></th>\n",
       "      <th></th>\n",
       "      <th></th>\n",
       "      <th></th>\n",
       "      <th></th>\n",
       "      <th></th>\n",
       "      <th></th>\n",
       "      <th></th>\n",
       "      <th></th>\n",
       "      <th></th>\n",
       "      <th></th>\n",
       "      <th></th>\n",
       "      <th></th>\n",
       "    </tr>\n",
       "  </thead>\n",
       "  <tbody>\n",
       "    <tr>\n",
       "      <th>A</th>\n",
       "      <td>0.625</td>\n",
       "      <td>0.557</td>\n",
       "      <td>0.438</td>\n",
       "      <td>0.472</td>\n",
       "      <td>0.569</td>\n",
       "      <td>0.602</td>\n",
       "      <td>NaN</td>\n",
       "      <td>NaN</td>\n",
       "      <td>NaN</td>\n",
       "      <td>NaN</td>\n",
       "      <td>NaN</td>\n",
       "      <td>NaN</td>\n",
       "    </tr>\n",
       "    <tr>\n",
       "      <th>B</th>\n",
       "      <td>0.403</td>\n",
       "      <td>0.317</td>\n",
       "      <td>0.302</td>\n",
       "      <td>NaN</td>\n",
       "      <td>NaN</td>\n",
       "      <td>NaN</td>\n",
       "      <td>NaN</td>\n",
       "      <td>NaN</td>\n",
       "      <td>NaN</td>\n",
       "      <td>NaN</td>\n",
       "      <td>NaN</td>\n",
       "      <td>NaN</td>\n",
       "    </tr>\n",
       "    <tr>\n",
       "      <th>C</th>\n",
       "      <td>0.256</td>\n",
       "      <td>0.245</td>\n",
       "      <td>0.249</td>\n",
       "      <td>NaN</td>\n",
       "      <td>NaN</td>\n",
       "      <td>NaN</td>\n",
       "      <td>NaN</td>\n",
       "      <td>NaN</td>\n",
       "      <td>NaN</td>\n",
       "      <td>NaN</td>\n",
       "      <td>NaN</td>\n",
       "      <td>NaN</td>\n",
       "    </tr>\n",
       "    <tr>\n",
       "      <th>D</th>\n",
       "      <td>0.196</td>\n",
       "      <td>0.172</td>\n",
       "      <td>0.218</td>\n",
       "      <td>NaN</td>\n",
       "      <td>NaN</td>\n",
       "      <td>NaN</td>\n",
       "      <td>NaN</td>\n",
       "      <td>NaN</td>\n",
       "      <td>NaN</td>\n",
       "      <td>NaN</td>\n",
       "      <td>NaN</td>\n",
       "      <td>NaN</td>\n",
       "    </tr>\n",
       "    <tr>\n",
       "      <th>E</th>\n",
       "      <td>0.147</td>\n",
       "      <td>0.127</td>\n",
       "      <td>0.133</td>\n",
       "      <td>NaN</td>\n",
       "      <td>NaN</td>\n",
       "      <td>NaN</td>\n",
       "      <td>NaN</td>\n",
       "      <td>NaN</td>\n",
       "      <td>NaN</td>\n",
       "      <td>NaN</td>\n",
       "      <td>NaN</td>\n",
       "      <td>NaN</td>\n",
       "    </tr>\n",
       "    <tr>\n",
       "      <th>F</th>\n",
       "      <td>0.115</td>\n",
       "      <td>0.112</td>\n",
       "      <td>0.125</td>\n",
       "      <td>NaN</td>\n",
       "      <td>NaN</td>\n",
       "      <td>NaN</td>\n",
       "      <td>NaN</td>\n",
       "      <td>NaN</td>\n",
       "      <td>NaN</td>\n",
       "      <td>NaN</td>\n",
       "      <td>NaN</td>\n",
       "      <td>NaN</td>\n",
       "    </tr>\n",
       "    <tr>\n",
       "      <th>G</th>\n",
       "      <td>0.103</td>\n",
       "      <td>0.098</td>\n",
       "      <td>0.110</td>\n",
       "      <td>NaN</td>\n",
       "      <td>NaN</td>\n",
       "      <td>NaN</td>\n",
       "      <td>NaN</td>\n",
       "      <td>NaN</td>\n",
       "      <td>NaN</td>\n",
       "      <td>NaN</td>\n",
       "      <td>NaN</td>\n",
       "      <td>NaN</td>\n",
       "    </tr>\n",
       "    <tr>\n",
       "      <th>H</th>\n",
       "      <td>0.092</td>\n",
       "      <td>0.086</td>\n",
       "      <td>0.089</td>\n",
       "      <td>0.092</td>\n",
       "      <td>0.093</td>\n",
       "      <td>0.097</td>\n",
       "      <td>NaN</td>\n",
       "      <td>NaN</td>\n",
       "      <td>NaN</td>\n",
       "      <td>NaN</td>\n",
       "      <td>NaN</td>\n",
       "      <td>NaN</td>\n",
       "    </tr>\n",
       "  </tbody>\n",
       "</table>\n",
       "</div>"
      ],
      "text/plain": [
       "      1      2      3      4      5      6   7   8   9   10  11  12\n",
       "                                                                   \n",
       "A  0.625  0.557  0.438  0.472  0.569  0.602 NaN NaN NaN NaN NaN NaN\n",
       "B  0.403  0.317  0.302    NaN    NaN    NaN NaN NaN NaN NaN NaN NaN\n",
       "C  0.256  0.245  0.249    NaN    NaN    NaN NaN NaN NaN NaN NaN NaN\n",
       "D  0.196  0.172  0.218    NaN    NaN    NaN NaN NaN NaN NaN NaN NaN\n",
       "E  0.147  0.127  0.133    NaN    NaN    NaN NaN NaN NaN NaN NaN NaN\n",
       "F  0.115  0.112  0.125    NaN    NaN    NaN NaN NaN NaN NaN NaN NaN\n",
       "G  0.103  0.098  0.110    NaN    NaN    NaN NaN NaN NaN NaN NaN NaN\n",
       "H  0.092  0.086  0.089  0.092  0.093  0.097 NaN NaN NaN NaN NaN NaN"
      ]
     },
     "execution_count": 25,
     "metadata": {},
     "output_type": "execute_result"
    }
   ],
   "source": [
    "# load file\n",
    "df = pd.read_excel(bca_file_path,header=11)\n",
    "df = df.set_index('Unnamed: 0')\n",
    "mat = df.to_numpy()\n",
    "df.index.names = [' ']\n",
    "df"
   ]
  },
  {
   "cell_type": "code",
   "execution_count": 30,
   "id": "60d5fbfb",
   "metadata": {},
   "outputs": [],
   "source": [
    "# Plate setup\n",
    "\n",
    "# Standards go in the first n cols, using all the rows as shown below\n",
    "row_order = ['A','B','C','D','E','F','G','H']\n",
    "\n",
    "##### STANDARDS - listed in ug/mL ##### \n",
    "standards = {\n",
    "    'A':1000,\n",
    "    'B':500,\n",
    "    'C':250,\n",
    "    'D':125,\n",
    "    'E':62.5,\n",
    "    'F':31.3,\n",
    "    'G':15.6,\n",
    "    'H':0\n",
    "}\n",
    "\n",
    "# Add standards to ignore if you have some outliers\n",
    "# ignore = ['A']\n",
    "ignore = []\n",
    "\n",
    "# Change if needed\n",
    "num_standard_reps = 3\n",
    "\n",
    "# Positions of samples\n",
    "samples_positions = [\n",
    "    [[0,3],[0,4]],\n",
    "    [[7,3],[7,4],[7,5]]\n",
    "]\n",
    "\n",
    "# Sample names corresponding to the above positions\n",
    "samples_names = [\n",
    "    'HEK293T test',\n",
    "    '0.1% Formic Acid Blank'\n",
    "]"
   ]
  },
  {
   "cell_type": "code",
   "execution_count": 31,
   "id": "641bc204",
   "metadata": {},
   "outputs": [],
   "source": [
    "# Generate points for the standard curve\n",
    "concentrations_x = []\n",
    "absorbances_y = []\n",
    "for row in range(len(row_order)):\n",
    "    if row_order[row] not in ignore:\n",
    "        concentration = standards[row_order[row]]\n",
    "        for col in range(num_standard_reps):\n",
    "            concentrations_x.append(concentration)\n",
    "            absorbances_y.append(mat[row,col])\n",
    "\n",
    "# Add additional standards other than the main columns\n",
    "additional_standards_list = [] #[[7,3],[7,4],[7,5]]\n",
    "additional_standards_concentrations = [] #[0,0,0] \n",
    "\n",
    "for n in range(len(additional_standards_list)):\n",
    "    concentrations_x.append(additional_standards_concentrations[n])\n",
    "    absorbances_y.append(mat[additional_standards_list[n][0],additional_standards_list[n][1]])"
   ]
  },
  {
   "cell_type": "code",
   "execution_count": 38,
   "id": "eb6d440c",
   "metadata": {},
   "outputs": [
    {
     "name": "stdout",
     "output_type": "stream",
     "text": [
      "HEK293T test:\n",
      "\tMean Absorbance: 0.5205\n",
      "\tInterpolated Concentration: 943.6166332441754  ug/mL\n",
      "0.1% Formic Acid Blank:\n",
      "\tMean Absorbance: 0.09400000000000001\n",
      "\tInterpolated Concentration: -10.597567094498492  ug/mL\n"
     ]
    },
    {
     "data": {
      "text/plain": [
       "Text(0, 0.5, 'Net Absorbance (562nm)')"
      ]
     },
     "execution_count": 38,
     "metadata": {},
     "output_type": "execute_result"
    },
    {
     "data": {
      "image/png": "[encoded data removed]",
      "text/plain": [
       "<Figure size 1080x720 with 1 Axes>"
      ]
     },
     "metadata": {
      "needs_background": "light"
     },
     "output_type": "display_data"
    }
   ],
   "source": [
    "# Scatterplot of points\n",
    "std_curve = plt.figure(figsize = (15,10))\n",
    "plt.scatter(concentrations_x,absorbances_y,c='grey',alpha=0.3)\n",
    "\n",
    "# Add a quadratic regression\n",
    "model = np.poly1d(np.polyfit(concentrations_x,absorbances_y,2))\n",
    "polyline = np.linspace(0,1000,1000)\n",
    "plt.plot(polyline,model(polyline),c='black')\n",
    "\n",
    "\n",
    "# Make interpolations for the samples\n",
    "for samplenum in range(len(samples_positions)):\n",
    "    sample_name = samples_names[samplenum]\n",
    "    sample_abs = []\n",
    "    for row,col in samples_positions[samplenum]:\n",
    "        sample_abs.append(mat[row,col])\n",
    "    # Get the mean absorbance and plot as a horizontal line\n",
    "    plt.plot([0,1000],[np.mean(sample_abs)]*2,label=sample_name)\n",
    "    print(sample_name + ':')\n",
    "    print('\\t' + 'Mean Absorbance: ' + str(np.mean(sample_abs)))\n",
    "    \n",
    "    # Interpolate the concentration for this sample using the minimum solution for the quadratic equation\n",
    "    print('\\t' + 'Interpolated Concentration: ' + str(np.min((model-np.mean(sample_abs)).r)) + '  ug/mL')\n",
    "\n",
    "plt.legend()\n",
    "plt.title('Standard Curve - ' + expt_name)\n",
    "plt.xlabel('Protein Concentration (ug/mL)')\n",
    "plt.ylabel('Net Absorbance (562nm)')"
   ]
  },
  {
   "cell_type": "code",
   "execution_count": 33,
   "id": "2ec510e3",
   "metadata": {},
   "outputs": [],
   "source": [
    "# Run this to save the figure\n",
    "save_path = figure_base + '.png'\n",
    "std_curve.savefig(save_path)"
   ]
  },
  {
   "cell_type": "code",
   "execution_count": null,
   "id": "33492a42",
   "metadata": {},
   "outputs": [],
   "source": []
  },
  {
   "cell_type": "code",
   "execution_count": 37,
   "id": "c786d6d3",
   "metadata": {},
   "outputs": [
    {
     "data": {
      "text/plain": [
       "array([2876.38309746,  876.69605556])"
      ]
     },
     "execution_count": 37,
     "metadata": {},
     "output_type": "execute_result"
    }
   ],
   "source": [
    "(model-0.5).r"
   ]
  },
  {
   "cell_type": "code",
   "execution_count": 10,
   "id": "4b8b5817",
   "metadata": {},
   "outputs": [
    {
     "data": {
      "text/plain": [
       "poly1d([-4.85899346e-06,  6.42426259e-03,  2.59579239e-01])"
      ]
     },
     "execution_count": 10,
     "metadata": {},
     "output_type": "execute_result"
    }
   ],
   "source": []
  },
  {
   "cell_type": "code",
   "execution_count": null,
   "id": "12de87d6",
   "metadata": {},
   "outputs": [],
   "source": []
  }
 ],
 "metadata": {
  "kernelspec": {
   "display_name": "Python 3",
   "language": "python",
   "name": "python3"
  },
  "language_info": {
   "codemirror_mode": {
    "name": "ipython",
    "version": 3
   },
   "file_extension": ".py",
   "mimetype": "text/x-python",
   "name": "python",
   "nbconvert_exporter": "python",
   "pygments_lexer": "ipython3",
   "version": "3.8.8"
  }
 },
 "nbformat": 4,
 "nbformat_minor": 5
}
