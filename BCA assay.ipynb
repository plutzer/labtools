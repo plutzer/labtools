{
 "cells": [
  {
   "cell_type": "code",
   "execution_count": 3,
   "id": "d8a5544d",
   "metadata": {},
   "outputs": [],
   "source": [
    "# Imports\n",
    "import numpy as np\n",
    "from matplotlib import pyplot as plt\n",
    "import pandas as pd\n",
    "from scipy.stats import linregress"
   ]
  },
  {
   "cell_type": "code",
   "execution_count": 4,
   "id": "7cd0e772",
   "metadata": {},
   "outputs": [],
   "source": [
    "# Directories - Change as desired\n",
    "bca_file_path = \"C:/Users/plutzer/Box/CellBio-MajorLab/Users/Isaac/Lab Notebook/Lab_data/20220120_lysate/BCA_IBP_20220120_152134.xlsx\"\n",
    "figure_base = bca_file_path[:len(bca_file_path)-5]\n",
    "expt_name = bca_file_path.split('/')[-1].split('.')[0]"
   ]
  },
  {
   "cell_type": "code",
   "execution_count": 5,
   "id": "d6534e07",
   "metadata": {},
   "outputs": [
    {
     "data": {
      "text/html": [
       "<div>\n",
       "<style scoped>\n",
       "    .dataframe tbody tr th:only-of-type {\n",
       "        vertical-align: middle;\n",
       "    }\n",
       "\n",
       "    .dataframe tbody tr th {\n",
       "        vertical-align: top;\n",
       "    }\n",
       "\n",
       "    .dataframe thead th {\n",
       "        text-align: right;\n",
       "    }\n",
       "</style>\n",
       "<table border=\"1\" class=\"dataframe\">\n",
       "  <thead>\n",
       "    <tr style=\"text-align: right;\">\n",
       "      <th></th>\n",
       "      <th>1</th>\n",
       "      <th>2</th>\n",
       "      <th>3</th>\n",
       "      <th>4</th>\n",
       "      <th>5</th>\n",
       "      <th>6</th>\n",
       "      <th>7</th>\n",
       "      <th>8</th>\n",
       "      <th>9</th>\n",
       "      <th>10</th>\n",
       "      <th>11</th>\n",
       "      <th>12</th>\n",
       "    </tr>\n",
       "    <tr>\n",
       "      <th></th>\n",
       "      <th></th>\n",
       "      <th></th>\n",
       "      <th></th>\n",
       "      <th></th>\n",
       "      <th></th>\n",
       "      <th></th>\n",
       "      <th></th>\n",
       "      <th></th>\n",
       "      <th></th>\n",
       "      <th></th>\n",
       "      <th></th>\n",
       "      <th></th>\n",
       "    </tr>\n",
       "  </thead>\n",
       "  <tbody>\n",
       "    <tr>\n",
       "      <th>A</th>\n",
       "      <td>0.850</td>\n",
       "      <td>0.795</td>\n",
       "      <td>0.906</td>\n",
       "      <td>0.826</td>\n",
       "      <td>0.536</td>\n",
       "      <td>0.473</td>\n",
       "      <td>NaN</td>\n",
       "      <td>NaN</td>\n",
       "      <td>NaN</td>\n",
       "      <td>NaN</td>\n",
       "      <td>NaN</td>\n",
       "      <td>NaN</td>\n",
       "    </tr>\n",
       "    <tr>\n",
       "      <th>B</th>\n",
       "      <td>0.651</td>\n",
       "      <td>0.599</td>\n",
       "      <td>0.579</td>\n",
       "      <td>0.192</td>\n",
       "      <td>0.204</td>\n",
       "      <td>0.205</td>\n",
       "      <td>NaN</td>\n",
       "      <td>NaN</td>\n",
       "      <td>NaN</td>\n",
       "      <td>NaN</td>\n",
       "      <td>NaN</td>\n",
       "      <td>NaN</td>\n",
       "    </tr>\n",
       "    <tr>\n",
       "      <th>C</th>\n",
       "      <td>0.587</td>\n",
       "      <td>0.559</td>\n",
       "      <td>0.587</td>\n",
       "      <td>NaN</td>\n",
       "      <td>NaN</td>\n",
       "      <td>NaN</td>\n",
       "      <td>NaN</td>\n",
       "      <td>NaN</td>\n",
       "      <td>NaN</td>\n",
       "      <td>NaN</td>\n",
       "      <td>NaN</td>\n",
       "      <td>NaN</td>\n",
       "    </tr>\n",
       "    <tr>\n",
       "      <th>D</th>\n",
       "      <td>0.363</td>\n",
       "      <td>0.359</td>\n",
       "      <td>0.310</td>\n",
       "      <td>NaN</td>\n",
       "      <td>NaN</td>\n",
       "      <td>NaN</td>\n",
       "      <td>NaN</td>\n",
       "      <td>NaN</td>\n",
       "      <td>NaN</td>\n",
       "      <td>NaN</td>\n",
       "      <td>NaN</td>\n",
       "      <td>NaN</td>\n",
       "    </tr>\n",
       "    <tr>\n",
       "      <th>E</th>\n",
       "      <td>0.357</td>\n",
       "      <td>0.293</td>\n",
       "      <td>0.285</td>\n",
       "      <td>NaN</td>\n",
       "      <td>NaN</td>\n",
       "      <td>NaN</td>\n",
       "      <td>NaN</td>\n",
       "      <td>NaN</td>\n",
       "      <td>NaN</td>\n",
       "      <td>NaN</td>\n",
       "      <td>NaN</td>\n",
       "      <td>NaN</td>\n",
       "    </tr>\n",
       "    <tr>\n",
       "      <th>F</th>\n",
       "      <td>0.137</td>\n",
       "      <td>0.155</td>\n",
       "      <td>0.147</td>\n",
       "      <td>NaN</td>\n",
       "      <td>NaN</td>\n",
       "      <td>NaN</td>\n",
       "      <td>NaN</td>\n",
       "      <td>NaN</td>\n",
       "      <td>NaN</td>\n",
       "      <td>NaN</td>\n",
       "      <td>NaN</td>\n",
       "      <td>NaN</td>\n",
       "    </tr>\n",
       "    <tr>\n",
       "      <th>G</th>\n",
       "      <td>0.170</td>\n",
       "      <td>0.153</td>\n",
       "      <td>0.157</td>\n",
       "      <td>NaN</td>\n",
       "      <td>NaN</td>\n",
       "      <td>NaN</td>\n",
       "      <td>NaN</td>\n",
       "      <td>NaN</td>\n",
       "      <td>NaN</td>\n",
       "      <td>NaN</td>\n",
       "      <td>NaN</td>\n",
       "      <td>NaN</td>\n",
       "    </tr>\n",
       "    <tr>\n",
       "      <th>H</th>\n",
       "      <td>0.104</td>\n",
       "      <td>0.091</td>\n",
       "      <td>0.090</td>\n",
       "      <td>NaN</td>\n",
       "      <td>NaN</td>\n",
       "      <td>NaN</td>\n",
       "      <td>NaN</td>\n",
       "      <td>NaN</td>\n",
       "      <td>NaN</td>\n",
       "      <td>NaN</td>\n",
       "      <td>NaN</td>\n",
       "      <td>NaN</td>\n",
       "    </tr>\n",
       "  </tbody>\n",
       "</table>\n",
       "</div>"
      ],
      "text/plain": [
       "      1      2      3      4      5      6   7   8   9   10  11  12\n",
       "                                                                   \n",
       "A  0.850  0.795  0.906  0.826  0.536  0.473 NaN NaN NaN NaN NaN NaN\n",
       "B  0.651  0.599  0.579  0.192  0.204  0.205 NaN NaN NaN NaN NaN NaN\n",
       "C  0.587  0.559  0.587    NaN    NaN    NaN NaN NaN NaN NaN NaN NaN\n",
       "D  0.363  0.359  0.310    NaN    NaN    NaN NaN NaN NaN NaN NaN NaN\n",
       "E  0.357  0.293  0.285    NaN    NaN    NaN NaN NaN NaN NaN NaN NaN\n",
       "F  0.137  0.155  0.147    NaN    NaN    NaN NaN NaN NaN NaN NaN NaN\n",
       "G  0.170  0.153  0.157    NaN    NaN    NaN NaN NaN NaN NaN NaN NaN\n",
       "H  0.104  0.091  0.090    NaN    NaN    NaN NaN NaN NaN NaN NaN NaN"
      ]
     },
     "execution_count": 5,
     "metadata": {},
     "output_type": "execute_result"
    }
   ],
   "source": [
    "# load file\n",
    "df = pd.read_excel(bca_file_path,header=14)\n",
    "df = df.set_index('Unnamed: 0')\n",
    "mat = df.to_numpy()\n",
    "df.index.names = [' ']\n",
    "df"
   ]
  },
  {
   "cell_type": "code",
   "execution_count": 11,
   "id": "60d5fbfb",
   "metadata": {},
   "outputs": [],
   "source": [
    "# Plate setup\n",
    "\n",
    "# Standards go in the first n cols, using all the rows as shown below\n",
    "row_order = ['A','B','C','D','E','F','G','H']\n",
    "\n",
    "##### STANDARDS - listed in ug/mL ##### \n",
    "standards = {\n",
    "    'A':2000,\n",
    "    'B':1500,\n",
    "    'C':1000,\n",
    "    'D':750,\n",
    "    'E':500,\n",
    "    'F':250,\n",
    "    'G':125,\n",
    "    'H':0\n",
    "}\n",
    "\n",
    "# Add standards to ignore if you have some outliers\n",
    "# ignore = ['A','D']\n",
    "ignore = []\n",
    "\n",
    "# Change if needed\n",
    "num_standard_reps = 3\n",
    "\n",
    "# Positions of samples\n",
    "samples_positions = [\n",
    "    [[0,4],[0,5]],\n",
    "    [[1,3],[1,4],[1,5]]\n",
    "]\n",
    "\n",
    "# Sample names corresponding to the above positions\n",
    "samples_names = [\n",
    "    'lysate 1:10',\n",
    "    'lysate 1:40'\n",
    "]"
   ]
  },
  {
   "cell_type": "code",
   "execution_count": 10,
   "id": "eb6d440c",
   "metadata": {},
   "outputs": [
    {
     "name": "stdout",
     "output_type": "stream",
     "text": [
      "Linear model:   A=0.0003749149217128844[protein]+0.0997890963969062\n",
      "lysate 1:10:\n",
      "\tMean Absorbance: 0.6116666666666667\n",
      "\tInterpolated Concentration: 1365.3166108490184  ug/mL\n",
      "lysate 1:40:\n",
      "\tMean Absorbance: 0.20033333333333334\n",
      "\tInterpolated Concentration: 268.1788083468853  ug/mL\n"
     ]
    },
    {
     "data": {
      "text/plain": [
       "Text(0, 0.5, 'Net Absorbance (562nm)')"
      ]
     },
     "execution_count": 10,
     "metadata": {},
     "output_type": "execute_result"
    },
    {
     "data": {
      "image/png": "[encoded data removed]",
      "text/plain": [
       "<Figure size 1080x720 with 1 Axes>"
      ]
     },
     "metadata": {
      "needs_background": "light"
     },
     "output_type": "display_data"
    }
   ],
   "source": [
    "# Generate points for the standard curve\n",
    "concentrations_x = []\n",
    "absorbances_y = []\n",
    "for row in range(len(row_order)):\n",
    "    if row_order[row] not in ignore:\n",
    "        concentration = standards[row_order[row]]\n",
    "        for col in range(num_standard_reps):\n",
    "            concentrations_x.append(concentration)\n",
    "            absorbances_y.append(mat[row,col])\n",
    "\n",
    "# Scatterplot of points\n",
    "std_curve = plt.figure(figsize = (15,10))\n",
    "plt.scatter(concentrations_x,absorbances_y,c='grey',alpha=0.3)\n",
    "\n",
    "# Add a linear regression\n",
    "slope,intercept,r_val,pval,std_err = linregress(concentrations_x,absorbances_y)\n",
    "plt.plot([0,2000],[intercept,intercept+slope*2000],c='black')\n",
    "print('Linear model:   A=' + str(slope) + '[protein]' + '+' + str(intercept))\n",
    "\n",
    "# Make interpolations for the samples\n",
    "for samplenum in range(len(samples_positions)):\n",
    "    sample_name = samples_names[samplenum]\n",
    "    sample_abs = []\n",
    "    for row,col in samples_positions[samplenum]:\n",
    "        sample_abs.append(mat[row,col])\n",
    "    # Get the mean absorbance and plot as a horizontal line\n",
    "    plt.plot([0,2000],[np.mean(sample_abs)]*2,label=sample_name)\n",
    "    print(sample_name + ':')\n",
    "    print('\\t' + 'Mean Absorbance: ' + str(np.mean(sample_abs)))\n",
    "    print('\\t' + 'Interpolated Concentration: ' + str((np.mean(sample_abs)-intercept)/slope) + '  ug/mL')\n",
    "\n",
    "plt.legend()\n",
    "plt.title('Standard Curve - ' + expt_name)\n",
    "plt.xlabel('Protein Concentration (ug/mL)')\n",
    "plt.ylabel('Net Absorbance (562nm)')"
   ]
  },
  {
   "cell_type": "code",
   "execution_count": 8,
   "id": "2ec510e3",
   "metadata": {},
   "outputs": [],
   "source": [
    "# Run this to save the figure\n",
    "save_path = figure_base + '.png'\n",
    "std_curve.savefig(save_path)"
   ]
  },
  {
   "cell_type": "code",
   "execution_count": null,
   "id": "33492a42",
   "metadata": {},
   "outputs": [],
   "source": []
  },
  {
   "cell_type": "code",
   "execution_count": 9,
   "id": "c786d6d3",
   "metadata": {},
   "outputs": [
    {
     "name": "stdout",
     "output_type": "stream",
     "text": [
      "Amount of water to add : 305.1267605633803\n"
     ]
    }
   ],
   "source": [
    "# Dilution\n",
    "sample_conc = 2878\n",
    "initial_vol = 992\n",
    "target_conc = 2201\n",
    "\n",
    "add = (sample_conc*(initial_vol) - target_conc*(initial_vol))/(target_conc)\n",
    "\n",
    "print('Amount of water to add : ' + str(add))"
   ]
  },
  {
   "cell_type": "code",
   "execution_count": 10,
   "id": "4b8b5817",
   "metadata": {},
   "outputs": [
    {
     "data": {
      "text/plain": [
       "1105.6"
      ]
     },
     "execution_count": 10,
     "metadata": {},
     "output_type": "execute_result"
    }
   ],
   "source": [
    "992+113.6"
   ]
  },
  {
   "cell_type": "code",
   "execution_count": null,
   "id": "49251a02",
   "metadata": {},
   "outputs": [],
   "source": []
  }
 ],
 "metadata": {
  "kernelspec": {
   "display_name": "Python 3",
   "language": "python",
   "name": "python3"
  },
  "language_info": {
   "codemirror_mode": {
    "name": "ipython",
    "version": 3
   },
   "file_extension": ".py",
   "mimetype": "text/x-python",
   "name": "python",
   "nbconvert_exporter": "python",
   "pygments_lexer": "ipython3",
   "version": "3.8.8"
  }
 },
 "nbformat": 4,
 "nbformat_minor": 5
}
