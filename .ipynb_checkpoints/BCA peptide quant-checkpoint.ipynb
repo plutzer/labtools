{
 "cells": [
  {
   "cell_type": "code",
   "execution_count": 1,
   "id": "d8a5544d",
   "metadata": {},
   "outputs": [],
   "source": [
    "# Imports\n",
    "import numpy as np\n",
    "from matplotlib import pyplot as plt\n",
    "import pandas as pd\n",
    "from scipy.stats import linregress"
   ]
  },
  {
   "cell_type": "code",
   "execution_count": 7,
   "id": "7cd0e772",
   "metadata": {},
   "outputs": [],
   "source": [
    "# Directories - Change as desired\n",
    "bca_file_path = \"C:/Users/plutzer/Box/CellBio-MajorLab/Users/Isaac/Lab Notebook/Lab_data/20220124_puram_samples_2/BCA_IBP_20220324_162820.xlsx\"\n",
    "figure_base = bca_file_path[:len(bca_file_path)-5]\n",
    "expt_name = bca_file_path.split('/')[-1].split('.')[0]"
   ]
  },
  {
   "cell_type": "code",
   "execution_count": 8,
   "id": "d6534e07",
   "metadata": {},
   "outputs": [
    {
     "data": {
      "text/html": [
       "<div>\n",
       "<style scoped>\n",
       "    .dataframe tbody tr th:only-of-type {\n",
       "        vertical-align: middle;\n",
       "    }\n",
       "\n",
       "    .dataframe tbody tr th {\n",
       "        vertical-align: top;\n",
       "    }\n",
       "\n",
       "    .dataframe thead th {\n",
       "        text-align: right;\n",
       "    }\n",
       "</style>\n",
       "<table border=\"1\" class=\"dataframe\">\n",
       "  <thead>\n",
       "    <tr style=\"text-align: right;\">\n",
       "      <th></th>\n",
       "      <th>1</th>\n",
       "      <th>2</th>\n",
       "      <th>3</th>\n",
       "      <th>4</th>\n",
       "      <th>5</th>\n",
       "      <th>6</th>\n",
       "      <th>7</th>\n",
       "      <th>8</th>\n",
       "      <th>9</th>\n",
       "      <th>10</th>\n",
       "      <th>11</th>\n",
       "      <th>12</th>\n",
       "    </tr>\n",
       "    <tr>\n",
       "      <th></th>\n",
       "      <th></th>\n",
       "      <th></th>\n",
       "      <th></th>\n",
       "      <th></th>\n",
       "      <th></th>\n",
       "      <th></th>\n",
       "      <th></th>\n",
       "      <th></th>\n",
       "      <th></th>\n",
       "      <th></th>\n",
       "      <th></th>\n",
       "      <th></th>\n",
       "    </tr>\n",
       "  </thead>\n",
       "  <tbody>\n",
       "    <tr>\n",
       "      <th>A</th>\n",
       "      <td>0.494</td>\n",
       "      <td>0.408</td>\n",
       "      <td>0.408</td>\n",
       "      <td>0.436</td>\n",
       "      <td>0.172</td>\n",
       "      <td>0.153</td>\n",
       "      <td>0.151</td>\n",
       "      <td>0.155</td>\n",
       "      <td>0.144</td>\n",
       "      <td>0.138</td>\n",
       "      <td>0.140</td>\n",
       "      <td>0.143</td>\n",
       "    </tr>\n",
       "    <tr>\n",
       "      <th>B</th>\n",
       "      <td>0.271</td>\n",
       "      <td>0.271</td>\n",
       "      <td>0.277</td>\n",
       "      <td>0.273</td>\n",
       "      <td>0.158</td>\n",
       "      <td>0.148</td>\n",
       "      <td>0.156</td>\n",
       "      <td>0.152</td>\n",
       "      <td>0.153</td>\n",
       "      <td>0.155</td>\n",
       "      <td>0.148</td>\n",
       "      <td>0.147</td>\n",
       "    </tr>\n",
       "    <tr>\n",
       "      <th>C</th>\n",
       "      <td>0.229</td>\n",
       "      <td>0.193</td>\n",
       "      <td>0.190</td>\n",
       "      <td>0.187</td>\n",
       "      <td>0.165</td>\n",
       "      <td>0.162</td>\n",
       "      <td>0.164</td>\n",
       "      <td>0.153</td>\n",
       "      <td>0.188</td>\n",
       "      <td>0.167</td>\n",
       "      <td>0.171</td>\n",
       "      <td>0.159</td>\n",
       "    </tr>\n",
       "    <tr>\n",
       "      <th>D</th>\n",
       "      <td>0.161</td>\n",
       "      <td>0.155</td>\n",
       "      <td>0.150</td>\n",
       "      <td>0.150</td>\n",
       "      <td>0.154</td>\n",
       "      <td>0.153</td>\n",
       "      <td>0.150</td>\n",
       "      <td>0.143</td>\n",
       "      <td>0.164</td>\n",
       "      <td>0.163</td>\n",
       "      <td>0.160</td>\n",
       "      <td>0.167</td>\n",
       "    </tr>\n",
       "    <tr>\n",
       "      <th>E</th>\n",
       "      <td>0.119</td>\n",
       "      <td>0.118</td>\n",
       "      <td>0.120</td>\n",
       "      <td>0.123</td>\n",
       "      <td>0.144</td>\n",
       "      <td>0.143</td>\n",
       "      <td>0.147</td>\n",
       "      <td>0.146</td>\n",
       "      <td>0.153</td>\n",
       "      <td>0.157</td>\n",
       "      <td>0.151</td>\n",
       "      <td>0.154</td>\n",
       "    </tr>\n",
       "    <tr>\n",
       "      <th>F</th>\n",
       "      <td>0.106</td>\n",
       "      <td>0.107</td>\n",
       "      <td>0.103</td>\n",
       "      <td>0.102</td>\n",
       "      <td>0.131</td>\n",
       "      <td>0.141</td>\n",
       "      <td>0.119</td>\n",
       "      <td>0.120</td>\n",
       "      <td>0.162</td>\n",
       "      <td>0.147</td>\n",
       "      <td>0.296</td>\n",
       "      <td>0.279</td>\n",
       "    </tr>\n",
       "    <tr>\n",
       "      <th>G</th>\n",
       "      <td>0.093</td>\n",
       "      <td>0.095</td>\n",
       "      <td>0.088</td>\n",
       "      <td>0.091</td>\n",
       "      <td>0.136</td>\n",
       "      <td>0.138</td>\n",
       "      <td>0.146</td>\n",
       "      <td>0.155</td>\n",
       "      <td>0.157</td>\n",
       "      <td>0.157</td>\n",
       "      <td>0.217</td>\n",
       "      <td>0.277</td>\n",
       "    </tr>\n",
       "    <tr>\n",
       "      <th>H</th>\n",
       "      <td>0.082</td>\n",
       "      <td>0.082</td>\n",
       "      <td>0.083</td>\n",
       "      <td>0.083</td>\n",
       "      <td>0.161</td>\n",
       "      <td>0.160</td>\n",
       "      <td>0.169</td>\n",
       "      <td>0.176</td>\n",
       "      <td>0.233</td>\n",
       "      <td>0.214</td>\n",
       "      <td>0.207</td>\n",
       "      <td>0.198</td>\n",
       "    </tr>\n",
       "  </tbody>\n",
       "</table>\n",
       "</div>"
      ],
      "text/plain": [
       "      1      2      3      4      5      6      7      8      9      10  \\\n",
       "                                                                          \n",
       "A  0.494  0.408  0.408  0.436  0.172  0.153  0.151  0.155  0.144  0.138   \n",
       "B  0.271  0.271  0.277  0.273  0.158  0.148  0.156  0.152  0.153  0.155   \n",
       "C  0.229  0.193  0.190  0.187  0.165  0.162  0.164  0.153  0.188  0.167   \n",
       "D  0.161  0.155  0.150  0.150  0.154  0.153  0.150  0.143  0.164  0.163   \n",
       "E  0.119  0.118  0.120  0.123  0.144  0.143  0.147  0.146  0.153  0.157   \n",
       "F  0.106  0.107  0.103  0.102  0.131  0.141  0.119  0.120  0.162  0.147   \n",
       "G  0.093  0.095  0.088  0.091  0.136  0.138  0.146  0.155  0.157  0.157   \n",
       "H  0.082  0.082  0.083  0.083  0.161  0.160  0.169  0.176  0.233  0.214   \n",
       "\n",
       "      11     12  \n",
       "                 \n",
       "A  0.140  0.143  \n",
       "B  0.148  0.147  \n",
       "C  0.171  0.159  \n",
       "D  0.160  0.167  \n",
       "E  0.151  0.154  \n",
       "F  0.296  0.279  \n",
       "G  0.217  0.277  \n",
       "H  0.207  0.198  "
      ]
     },
     "execution_count": 8,
     "metadata": {},
     "output_type": "execute_result"
    }
   ],
   "source": [
    "# load file\n",
    "df = pd.read_excel(bca_file_path,header=14)\n",
    "df = df.set_index('Unnamed: 0')\n",
    "mat = df.to_numpy()\n",
    "df.index.names = [' ']\n",
    "df"
   ]
  },
  {
   "cell_type": "code",
   "execution_count": 16,
   "id": "60d5fbfb",
   "metadata": {},
   "outputs": [],
   "source": [
    "# Plate setup\n",
    "\n",
    "# Standards go in the first n cols, using all the rows as shown below\n",
    "row_order = ['A','B','C','D','E','F','G','H']\n",
    "\n",
    "##### STANDARDS - listed in ug/mL ##### \n",
    "standards = {\n",
    "    'A':1000,\n",
    "    'B':500,\n",
    "    'C':250,\n",
    "    'D':125,\n",
    "    'E':62.5,\n",
    "    'F':31.3,\n",
    "    'G':15.6,\n",
    "    'H':0\n",
    "}\n",
    "\n",
    "# Add standards to ignore if you have some outliers\n",
    "ignore = ['B']\n",
    "# ignore = []\n",
    "\n",
    "# Change if needed\n",
    "num_standard_reps = 4\n",
    "\n",
    "# Positions of samples\n",
    "samples_positions = [\n",
    "    [[0,5],[0,6],[0,7]],\n",
    "    [[1,4],[1,5],[1,6],[1,7]],\n",
    "    [[2,4],[2,5],[2,6],[2,7]],\n",
    "    [[3,4],[3,5],[3,6],[3,7]],\n",
    "    [[4,4],[4,5],[4,6],[4,7]],\n",
    "    [[0,8],[0,9],[0,10],[0,11]],\n",
    "    [[1,8],[1,9],[1,10],[1,11]],\n",
    "    [[2,8],[2,9],[2,10],[2,11]],\n",
    "    [[3,8],[3,9],[3,10],[3,11]],\n",
    "    [[4,8],[4,9],[4,10],[4,11]],\n",
    "    [[5,4],[5,5]],\n",
    "    [[6,4],[6,5]],\n",
    "    [[7,4],[7,5]],\n",
    "    [[5,6],[5,7]],\n",
    "    [[6,6],[6,7]],\n",
    "    [[7,6],[7,7]],\n",
    "    [[5,8],[5,9]],\n",
    "    [[6,8],[6,9]],\n",
    "    [[7,8],[7,9]],\n",
    "    [[5,10],[5,11]],\n",
    "    [[6,10],[6,11]],\n",
    "    [[7,10],[7,11]]\n",
    "]\n",
    "\n",
    "# Sample names corresponding to the above positions\n",
    "samples_names = [\n",
    "    '1A',\n",
    "    '1B',\n",
    "    '1C',\n",
    "    '1D',\n",
    "    '1E',\n",
    "    '2A',\n",
    "    '2B',\n",
    "    '2C',\n",
    "    '2D',\n",
    "    '2E',\n",
    "    'EMILY 1',\n",
    "    'EMILY 2',\n",
    "    'EMILY 3',\n",
    "    'EMILY 4',\n",
    "    'EMILY 5',\n",
    "    'EMILY 6',\n",
    "    'EMILY 7',\n",
    "    'EMILY 8',\n",
    "    'EMILY 9',\n",
    "    'EMILY A',\n",
    "    'EMILY B',\n",
    "    'EMILY C'\n",
    "]"
   ]
  },
  {
   "cell_type": "code",
   "execution_count": 17,
   "id": "641bc204",
   "metadata": {},
   "outputs": [],
   "source": [
    "# Generate points for the standard curve\n",
    "concentrations_x = []\n",
    "absorbances_y = []\n",
    "for row in range(len(row_order)):\n",
    "    if row_order[row] not in ignore:\n",
    "        concentration = standards[row_order[row]]\n",
    "        for col in range(num_standard_reps):\n",
    "            concentrations_x.append(concentration)\n",
    "            absorbances_y.append(mat[row,col])\n",
    "\n",
    "# Add additional standards other than the main columns\n",
    "additional_standards_list = [] #[[7,3],[7,4],[7,5]]\n",
    "additional_standards_concentrations = [] #[0,0,0] \n",
    "\n",
    "for n in range(len(additional_standards_list)):\n",
    "    concentrations_x.append(additional_standards_concentrations[n])\n",
    "    absorbances_y.append(mat[additional_standards_list[n][0],additional_standards_list[n][1]])"
   ]
  },
  {
   "cell_type": "code",
   "execution_count": 18,
   "id": "eb6d440c",
   "metadata": {},
   "outputs": [
    {
     "name": "stdout",
     "output_type": "stream",
     "text": [
      "1A:\n",
      "\tMean Absorbance: 0.153\n",
      "\tInterpolated Concentration: 136.0229082883267  ug/mL\n",
      "1B:\n",
      "\tMean Absorbance: 0.1535\n",
      "\tInterpolated Concentration: 137.09199714015017  ug/mL\n",
      "1C:\n",
      "\tMean Absorbance: 0.161\n",
      "\tInterpolated Concentration: 153.22442691142277  ug/mL\n",
      "1D:\n",
      "\tMean Absorbance: 0.15\n",
      "\tInterpolated Concentration: 129.62491905948795  ug/mL\n",
      "1E:\n",
      "\tMean Absorbance: 0.145\n",
      "\tInterpolated Concentration: 119.02384751763037  ug/mL\n",
      "2A:\n",
      "\tMean Absorbance: 0.14125000000000001\n",
      "\tInterpolated Concentration: 111.12323776800926  ug/mL\n",
      "2B:\n",
      "\tMean Absorbance: 0.15075\n",
      "\tInterpolated Concentration: 131.22176829361644  ug/mL\n",
      "2C:\n",
      "\tMean Absorbance: 0.17125\n",
      "\tInterpolated Concentration: 175.5716469658112  ug/mL\n",
      "2D:\n",
      "\tMean Absorbance: 0.1635\n",
      "\tInterpolated Concentration: 158.64258044320707  ug/mL\n",
      "2E:\n",
      "\tMean Absorbance: 0.15375\n",
      "\tInterpolated Concentration: 137.62683863266153  ug/mL\n",
      "EMILY 1:\n",
      "\tMean Absorbance: 0.136\n",
      "\tInterpolated Concentration: 100.13322326998286  ug/mL\n",
      "EMILY 2:\n",
      "\tMean Absorbance: 0.137\n",
      "\tInterpolated Concentration: 102.22025989850485  ug/mL\n",
      "EMILY 3:\n",
      "\tMean Absorbance: 0.1605\n",
      "\tInterpolated Concentration: 152.1432626429867  ug/mL\n",
      "EMILY 4:\n",
      "\tMean Absorbance: 0.1195\n",
      "\tInterpolated Concentration: 66.11233826644454  ug/mL\n",
      "EMILY 5:\n",
      "\tMean Absorbance: 0.1505\n",
      "\tInterpolated Concentration: 130.6892897829377  ug/mL\n",
      "EMILY 6:\n",
      "\tMean Absorbance: 0.1725\n",
      "\tInterpolated Concentration: 178.32128424172936  ug/mL\n",
      "EMILY 7:\n",
      "\tMean Absorbance: 0.1545\n",
      "\tInterpolated Concentration: 139.2325540227106  ug/mL\n",
      "EMILY 8:\n",
      "\tMean Absorbance: 0.157\n",
      "\tInterpolated Concentration: 144.59790759573846  ug/mL\n",
      "EMILY 9:\n",
      "\tMean Absorbance: 0.2235\n",
      "\tInterpolated Concentration: 295.5141984788059  ug/mL\n",
      "EMILY A:\n",
      "\tMean Absorbance: 0.2875\n",
      "\tInterpolated Concentration: 459.78756920877083  ug/mL\n",
      "EMILY B:\n",
      "\tMean Absorbance: 0.247\n",
      "\tInterpolated Concentration: 353.2757811848409  ug/mL\n",
      "EMILY C:\n",
      "\tMean Absorbance: 0.2025\n",
      "\tInterpolated Concentration: 246.01123647958366  ug/mL\n"
     ]
    },
    {
     "data": {
      "text/plain": [
       "Text(0, 0.5, 'Net Absorbance (562nm)')"
      ]
     },
     "execution_count": 18,
     "metadata": {},
     "output_type": "execute_result"
    },
    {
     "data": {
      "image/png": "[encoded data removed]",
      "text/plain": [
       "<Figure size 1080x720 with 1 Axes>"
      ]
     },
     "metadata": {
      "needs_background": "light"
     },
     "output_type": "display_data"
    }
   ],
   "source": [
    "# Scatterplot of points\n",
    "std_curve = plt.figure(figsize = (15,10))\n",
    "plt.scatter(concentrations_x,absorbances_y,c='grey',alpha=0.3)\n",
    "\n",
    "# Add a quadratic regression\n",
    "model = np.poly1d(np.polyfit(concentrations_x,absorbances_y,2))\n",
    "polyline = np.linspace(0,1000,1000)\n",
    "plt.plot(polyline,model(polyline),c='black')\n",
    "\n",
    "\n",
    "# Make interpolations for the samples\n",
    "for samplenum in range(len(samples_positions)):\n",
    "    sample_name = samples_names[samplenum]\n",
    "    sample_abs = []\n",
    "    for row,col in samples_positions[samplenum]:\n",
    "        sample_abs.append(mat[row,col])\n",
    "    # Get the mean absorbance and plot as a horizontal line\n",
    "    plt.plot([0,1000],[np.mean(sample_abs)]*2,label=sample_name)\n",
    "    print(sample_name + ':')\n",
    "    print('\\t' + 'Mean Absorbance: ' + str(np.mean(sample_abs)))\n",
    "    \n",
    "    # Interpolate the concentration for this sample using the minimum solution for the quadratic equation\n",
    "    print('\\t' + 'Interpolated Concentration: ' + str(np.min((model-np.mean(sample_abs)).r)) + '  ug/mL')\n",
    "\n",
    "plt.legend()\n",
    "plt.title('Standard Curve - ' + expt_name)\n",
    "plt.xlabel('Protein Concentration (ug/mL)')\n",
    "plt.ylabel('Net Absorbance (562nm)')"
   ]
  },
  {
   "cell_type": "code",
   "execution_count": 12,
   "id": "2ec510e3",
   "metadata": {},
   "outputs": [],
   "source": [
    "# Run this to save the figure\n",
    "save_path = figure_base + '.png'\n",
    "std_curve.savefig(save_path)"
   ]
  },
  {
   "cell_type": "code",
   "execution_count": 11,
   "id": "33492a42",
   "metadata": {},
   "outputs": [
    {
     "name": "stdout",
     "output_type": "stream",
     "text": [
      "Add 189.04744481034274 sample.\n",
      "Dilute with 60.95255518965726 diluent.\n"
     ]
    }
   ],
   "source": [
    "sample_conc = 819.9\n",
    "desired_conc = 620\n",
    "desired_vol = 250\n",
    "\n",
    "amount_sample = desired_conc*desired_vol/sample_conc\n",
    "amount_diluent = desired_vol-amount_sample\n",
    "\n",
    "print(\"Add \" + str(amount_sample) + \" sample.\")\n",
    "print(\"Dilute with \" + str(amount_diluent) + \" diluent.\")"
   ]
  },
  {
   "cell_type": "code",
   "execution_count": 3,
   "id": "c786d6d3",
   "metadata": {},
   "outputs": [
    {
     "ename": "NameError",
     "evalue": "name 'model' is not defined",
     "output_type": "error",
     "traceback": [
      "\u001b[1;31m---------------------------------------------------------------------------\u001b[0m",
      "\u001b[1;31mNameError\u001b[0m                                 Traceback (most recent call last)",
      "\u001b[1;32m<ipython-input-3-58dace0f05ff>\u001b[0m in \u001b[0;36m<module>\u001b[1;34m\u001b[0m\n\u001b[1;32m----> 1\u001b[1;33m \u001b[1;33m(\u001b[0m\u001b[0mmodel\u001b[0m\u001b[1;33m-\u001b[0m\u001b[1;36m0.5\u001b[0m\u001b[1;33m)\u001b[0m\u001b[1;33m.\u001b[0m\u001b[0mr\u001b[0m\u001b[1;33m\u001b[0m\u001b[1;33m\u001b[0m\u001b[0m\n\u001b[0m",
      "\u001b[1;31mNameError\u001b[0m: name 'model' is not defined"
     ]
    }
   ],
   "source": [
    "(model-0.5).r"
   ]
  },
  {
   "cell_type": "code",
   "execution_count": 11,
   "id": "4b8b5817",
   "metadata": {},
   "outputs": [
    {
     "data": {
      "text/plain": [
       "1580"
      ]
     },
     "execution_count": 11,
     "metadata": {},
     "output_type": "execute_result"
    }
   ],
   "source": [
    "790*2"
   ]
  },
  {
   "cell_type": "code",
   "execution_count": 13,
   "id": "12de87d6",
   "metadata": {},
   "outputs": [
    {
     "data": {
      "text/plain": [
       "2390.5"
      ]
     },
     "execution_count": 13,
     "metadata": {},
     "output_type": "execute_result"
    }
   ],
   "source": [
    "np.mean([2360,2421])"
   ]
  },
  {
   "cell_type": "code",
   "execution_count": 14,
   "id": "f6459c57",
   "metadata": {},
   "outputs": [
    {
     "data": {
      "text/plain": [
       "50.2092050209205"
      ]
     },
     "execution_count": 14,
     "metadata": {},
     "output_type": "execute_result"
    }
   ],
   "source": [
    "120/2.39"
   ]
  },
  {
   "cell_type": "code",
   "execution_count": null,
   "id": "8bff2b6c",
   "metadata": {},
   "outputs": [],
   "source": []
  }
 ],
 "metadata": {
  "kernelspec": {
   "display_name": "Python 3",
   "language": "python",
   "name": "python3"
  },
  "language_info": {
   "codemirror_mode": {
    "name": "ipython",
    "version": 3
   },
   "file_extension": ".py",
   "mimetype": "text/x-python",
   "name": "python",
   "nbconvert_exporter": "python",
   "pygments_lexer": "ipython3",
   "version": "3.8.8"
  }
 },
 "nbformat": 4,
 "nbformat_minor": 5
}
