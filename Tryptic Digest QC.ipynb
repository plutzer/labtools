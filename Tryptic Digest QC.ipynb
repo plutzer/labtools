{
 "cells": [
  {
   "cell_type": "code",
   "execution_count": 1,
   "id": "0c471529",
   "metadata": {},
   "outputs": [],
   "source": [
    "import numpy as np\n",
    "import pandas as pd"
   ]
  },
  {
   "cell_type": "code",
   "execution_count": 2,
   "id": "39fc48ff",
   "metadata": {},
   "outputs": [],
   "source": [
    "# Set the filenames\n",
    "tryptic = \"C:/Users/plutzer/Box/CellBio-MajorLab/Users/Isaac/Lab Notebook/Mass Spec/20210606_Practice_Digest/Tryptic_Fixed/txt/modificationSpecificPeptides.txt\"\n",
    "semitryptic = \"C:/Users/plutzer/Box/CellBio-MajorLab/Users/Isaac/Lab Notebook/Mass Spec/20210606_Practice_Digest/SemiTryptic_Fixed/txt/modificationSpecificPeptides.txt\"\n",
    "tryptic_lysc = \"C:/Users/plutzer/Box/CellBio-MajorLab/Users/Isaac/Lab Notebook/Mass Spec/20210606_Practice_Digest/TrypticLysC_Fixed/txt/modificationSpecificPeptides.txt\""
   ]
  },
  {
   "cell_type": "code",
   "execution_count": 18,
   "id": "8af3d942",
   "metadata": {},
   "outputs": [
    {
     "name": "stderr",
     "output_type": "stream",
     "text": [
      "C:\\Users\\plutzer\\Anaconda3\\lib\\site-packages\\IPython\\core\\interactiveshell.py:3165: DtypeWarning: Columns (33) have mixed types.Specify dtype option on import or set low_memory=False.\n",
      "  has_raised = await self.run_ast_nodes(code_ast.body, cell_name,\n"
     ]
    }
   ],
   "source": [
    "# This will error twice and work the third time. No idea why but it works.\n",
    "tryptic_df = pd.read_csv(tryptic,delimiter='\\t')\n",
    "semitryptic_df = pd.read_csv(semitryptic,delimiter='\\t')\n",
    "tryptic_lysc_df = pd.read_csv(tryptic_lysc,delimiter='\\t')"
   ]
  },
  {
   "cell_type": "code",
   "execution_count": 21,
   "id": "78461bcc",
   "metadata": {},
   "outputs": [
    {
     "name": "stdout",
     "output_type": "stream",
     "text": [
      "Total IDs:\n",
      "\tTrypic:\t59836\n",
      "\tSemi-Tryptic:\t29857\n",
      "\tTryptic + LysC:\t59836\n"
     ]
    }
   ],
   "source": [
    "# Output the total number of IDs\n",
    "print(\"Total IDs:\")\n",
    "print(\"\\tTrypic:\\t\" + str(np.sum(tryptic_df['MS/MS Count'])))\n",
    "print(\"\\tSemi-Tryptic:\\t\" + str(np.sum(semitryptic_df['MS/MS Count'])))\n",
    "print(\"\\tTryptic + LysC:\\t\" + str(np.sum(tryptic_lysc_df['MS/MS Count'])))"
   ]
  },
  {
   "cell_type": "code",
   "execution_count": null,
   "id": "a253516d",
   "metadata": {},
   "outputs": [],
   "source": []
  },
  {
   "cell_type": "code",
   "execution_count": null,
   "id": "7ad0eba1",
   "metadata": {},
   "outputs": [],
   "source": []
  },
  {
   "cell_type": "code",
   "execution_count": null,
   "id": "8590ab88",
   "metadata": {},
   "outputs": [],
   "source": []
  },
  {
   "cell_type": "code",
   "execution_count": null,
   "id": "e48e826d",
   "metadata": {},
   "outputs": [],
   "source": []
  },
  {
   "cell_type": "code",
   "execution_count": null,
   "id": "0425f1d3",
   "metadata": {},
   "outputs": [],
   "source": []
  }
 ],
 "metadata": {
  "kernelspec": {
   "display_name": "Python 3",
   "language": "python",
   "name": "python3"
  },
  "language_info": {
   "codemirror_mode": {
    "name": "ipython",
    "version": 3
   },
   "file_extension": ".py",
   "mimetype": "text/x-python",
   "name": "python",
   "nbconvert_exporter": "python",
   "pygments_lexer": "ipython3",
   "version": "3.8.8"
  }
 },
 "nbformat": 4,
 "nbformat_minor": 5
}
