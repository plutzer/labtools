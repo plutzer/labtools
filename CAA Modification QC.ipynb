{
 "cells": [
  {
   "cell_type": "code",
   "execution_count": 1,
   "id": "36d2f3b6",
   "metadata": {},
   "outputs": [],
   "source": [
    "import numpy as np\n",
    "import pandas as pd"
   ]
  },
  {
   "cell_type": "code",
   "execution_count": 2,
   "id": "7810cb6f",
   "metadata": {},
   "outputs": [],
   "source": [
    "# Filenames - these should be modificationSpecificPeptides files\n",
    "fixed = \"C:/Users/plutzer/Box/CellBio-MajorLab/Users/Isaac/Lab Notebook/Mass Spec/20210606_Practice_Digest/Tryptic_Fixed/txt/modificationSpecificPeptides.txt\"\n",
    "variable = \"C:/Users/plutzer/Box/CellBio-MajorLab/Users/Isaac/Lab Notebook/Mass Spec/20210606_Practice_Digest/Tryptic_Variable/txt/modificationSpecificPeptides.txt\""
   ]
  },
  {
   "cell_type": "code",
   "execution_count": 4,
   "id": "262a4e75",
   "metadata": {},
   "outputs": [],
   "source": [
    "#This will error once, works on the second go. No idea why\n",
    "fixed_df = pd.read_csv(fixed,delimiter='\\t')\n",
    "variable_df = pd.read_csv(variable,delimiter='\\t')"
   ]
  },
  {
   "cell_type": "code",
   "execution_count": 29,
   "id": "ec0f018f",
   "metadata": {},
   "outputs": [
    {
     "name": "stdout",
     "output_type": "stream",
     "text": [
      "Fixed Search:\n",
      "\tCysteine IDs:\t13730\n",
      "Variable Search:\n",
      "\tCysteine IDs:\t12566\n",
      "\tMod Cysteines:\t12510\n",
      "\tPercentage:  \t99.55435301607513%\n"
     ]
    }
   ],
   "source": [
    "# Print info on these searches\n",
    "# Fixed search\n",
    "print(\"Fixed Search:\")\n",
    "print('\\tCysteine IDs:\\t' + str(np.sum(fixed_df[['C' in item for item in fixed_df['Sequence']]]['MS/MS Count'])))\n",
    "\n",
    "# Variable Search\n",
    "print(\"Variable Search:\")\n",
    "print('\\tCysteine IDs:\\t' + str(np.sum(variable_df[['C' in item for item in variable_df['Sequence']]]['MS/MS Count'])))\n",
    "print('\\tMod Cysteines:\\t' + str(np.sum(variable_df[['C' in item for item in variable_df['Sequence']]][['Carbamidomethyl' in item for item in variable_df[['C' in item for item in variable_df['Sequence']]]['Modifications']]]['MS/MS Count'])))\n",
    "print('\\tPercentage:  \\t' + str(np.sum(variable_df[['C' in item for item in variable_df['Sequence']]][['Carbamidomethyl' in item for item in variable_df[['C' in item for item in variable_df['Sequence']]]['Modifications']]]['MS/MS Count'])/(np.sum(variable_df[['C' in item for item in variable_df['Sequence']]]['MS/MS Count']))*100) + '%')"
   ]
  },
  {
   "cell_type": "code",
   "execution_count": null,
   "id": "1edf083a",
   "metadata": {},
   "outputs": [],
   "source": []
  },
  {
   "cell_type": "code",
   "execution_count": null,
   "id": "dbafd8c9",
   "metadata": {},
   "outputs": [],
   "source": []
  },
  {
   "cell_type": "code",
   "execution_count": null,
   "id": "46030e80",
   "metadata": {},
   "outputs": [],
   "source": []
  }
 ],
 "metadata": {
  "kernelspec": {
   "display_name": "Python 3",
   "language": "python",
   "name": "python3"
  },
  "language_info": {
   "codemirror_mode": {
    "name": "ipython",
    "version": 3
   },
   "file_extension": ".py",
   "mimetype": "text/x-python",
   "name": "python",
   "nbconvert_exporter": "python",
   "pygments_lexer": "ipython3",
   "version": "3.8.8"
  }
 },
 "nbformat": 4,
 "nbformat_minor": 5
}
